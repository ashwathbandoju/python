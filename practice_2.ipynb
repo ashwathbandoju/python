{
  "nbformat": 4,
  "nbformat_minor": 0,
  "metadata": {
    "colab": {
      "name": "practice 2 ",
      "provenance": [],
      "collapsed_sections": [],
      "authorship_tag": "ABX9TyPd/FZ6RTsBl7BFDiyiuiMM",
      "include_colab_link": true
    },
    "kernelspec": {
      "name": "python3",
      "display_name": "Python 3"
    },
    "language_info": {
      "name": "python"
    }
  },
  "cells": [
    {
      "cell_type": "markdown",
      "metadata": {
        "id": "view-in-github",
        "colab_type": "text"
      },
      "source": [
        "<a href=\"https://colab.research.google.com/github/ashwathbandoju/python/blob/main/practice_2.ipynb\" target=\"_parent\"><img src=\"https://colab.research.google.com/assets/colab-badge.svg\" alt=\"Open In Colab\"/></a>"
      ]
    },
    {
      "cell_type": "code",
      "metadata": {
        "id": "HRBJXTdvT9O7"
      },
      "source": [
        "a=n+1\n",
        "    table = [[a] * (a-1) for _ in range(a-1)]\n",
        "    for i in range(1, a):\n",
        "        for j in range(1, a):\n",
        "            table[i-1][j-1] = i*j\n",
        "    return table"
      ],
      "execution_count": null,
      "outputs": []
    },
    {
      "cell_type": "code",
      "metadata": {
        "id": "g_hXBErTUiFR"
      },
      "source": [
        "k=0\n",
        "    while (n>=1):\n",
        "        if ((n%2)==1):\n",
        "            k+=1\n",
        "        n=n//2\n",
        "    return k"
      ],
      "execution_count": null,
      "outputs": []
    },
    {
      "cell_type": "code",
      "metadata": {
        "id": "AivSXRRdUmRV"
      },
      "source": [
        "for i in range(len(nums)):\n",
        "        nums[i]=nums[i]+i\n",
        "    return nums"
      ],
      "execution_count": null,
      "outputs": []
    },
    {
      "cell_type": "code",
      "metadata": {
        "id": "-mz_jmA_UqS6"
      },
      "source": [
        "return abs(x1-x0)+abs(y1-y0)"
      ],
      "execution_count": null,
      "outputs": []
    }
  ]
}